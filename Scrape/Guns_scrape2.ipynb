{
 "cells": [
  {
   "cell_type": "code",
   "execution_count": 1,
   "metadata": {},
   "outputs": [],
   "source": [
    "from splinter import Browser\n",
    "from webdriver_manager.chrome import ChromeDriverManager\n",
    "import pymongo\n",
    "import pandas as pd"
   ]
  },
  {
   "cell_type": "code",
   "execution_count": 2,
   "metadata": {},
   "outputs": [
    {
     "name": "stdout",
     "output_type": "stream",
     "text": [
      "\n"
     ]
    },
    {
     "name": "stderr",
     "output_type": "stream",
     "text": [
      "[WDM] - ====== WebDriver manager ======\n",
      "INFO:WDM:====== WebDriver manager ======\n",
      "[WDM] - Current google-chrome version is 103.0.5060\n",
      "INFO:WDM:Current google-chrome version is 103.0.5060\n",
      "[WDM] - Get LATEST chromedriver version for 103.0.5060 google-chrome\n",
      "INFO:WDM:Get LATEST chromedriver version for 103.0.5060 google-chrome\n",
      "[WDM] - Driver [/Users/ap20/.wdm/drivers/chromedriver/mac64/103.0.5060.134/chromedriver] found in cache\n",
      "INFO:WDM:Driver [/Users/ap20/.wdm/drivers/chromedriver/mac64/103.0.5060.134/chromedriver] found in cache\n"
     ]
    }
   ],
   "source": [
    "# Setup splinter\n",
    "executable_path = {'executable_path': ChromeDriverManager().install()}\n",
    "browser = Browser('chrome', **executable_path, headless=False)"
   ]
  },
  {
   "cell_type": "code",
   "execution_count": 3,
   "metadata": {},
   "outputs": [],
   "source": [
    "# Charts URL\n",
    "url = 'https://www.bbc.com/news/world-us-canada-41488081'\n",
    "browser.visit(url)"
   ]
  },
  {
   "cell_type": "code",
   "execution_count": 4,
   "metadata": {},
   "outputs": [
    {
     "data": {
      "text/plain": [
       "['https://ichef.bbci.co.uk/news/2048/cpsprodpb/2851/production/_124912301_optimised_guns_per_country-nc.png',\n",
       " 'https://ichef.bbci.co.uk/news/2048/cpsprodpb/9D81/production/_124912304_optimised_us_gun_laws-nc.png',\n",
       " 'https://ichef.bbci.co.uk/news/2048/cpsprodpb/89E2/production/_117889253_spending_01_v3-nc.png']"
      ]
     },
     "execution_count": 4,
     "metadata": {},
     "output_type": "execute_result"
    }
   ],
   "source": [
    "# Img Scrape\n",
    "charts = []\n",
    "\n",
    "chart = browser.find_by_xpath('//*[@id=\"main-content\"]/div[5]/div/div[1]/article/div[9]/figure/div/span/span/picture/img')['src']\n",
    "                                \n",
    "chart2 = browser.find_by_xpath('//*[@id=\"main-content\"]/div[5]/div/div[1]/article/div[39]/figure/div/span/span/picture/img')['src']\n",
    "\n",
    "chart3 = browser.find_by_xpath('//*[@id=\"main-content\"]/div[5]/div/div[1]/article/div[48]/figure/div/span/span/picture/img')['src']\n",
    "                              \n",
    "charts.extend([chart, chart2, chart3])\n",
    "\n",
    "charts"
   ]
  },
  {
   "cell_type": "code",
   "execution_count": 5,
   "metadata": {},
   "outputs": [],
   "source": [
    "# URL visit\n",
    "url = 'https://www.washingtonpost.com/news/wonk/wp/2018/06/19/there-are-more-guns-than-people-in-the-united-states-according-to-a-new-study-of-global-firearm-ownership/'\n",
    "browser.visit(url)"
   ]
  },
  {
   "cell_type": "code",
   "execution_count": 6,
   "metadata": {},
   "outputs": [
    {
     "data": {
      "text/plain": [
       "'There are more guns than people in the United States, according to a new study of global firearm ownership'"
      ]
     },
     "execution_count": 6,
     "metadata": {},
     "output_type": "execute_result"
    }
   ],
   "source": [
    "# Headline\n",
    "headline = browser.find_by_xpath('//*[@id=\"main-content\"]/span').text\n",
    "\n",
    "headline"
   ]
  },
  {
   "cell_type": "code",
   "execution_count": 7,
   "metadata": {},
   "outputs": [
    {
     "data": {
      "text/plain": [
       "['There are more than 393 million civilian-owned firearms in the United States, or enough for every man, woman and child to own one and still have 67 million guns left over.',\n",
       " \"The report, which draws on official data, survey data and other measures for 230 countries, finds that global firearm ownership is heavily concentrated in the United States. In 2017, for instance, Americans made up 4 percent of the world's population but owned about 46 percent of the entire global stock of 857 million civilian firearms.\",\n",
       " 'With an estimated 120.5 guns for every 100 residents, the firearm ownership rate in the United States is twice that of the next-highest nation, Yemen, with just 52.8 guns per 100 residents. In raw number terms, the closest country to the United States is India, with 71.1 million firearms in circulation. These numbers do not include firearms owned by law enforcement agencies or militaries.',\n",
       " \"On gun ownership, the United States stands out among the world's wealthiest nations, with an ownership rate more than three times higher than the rate in the next-highest country, Canada. The gun ownership rate in the United States is more than six times higher than the average among similar wealthy nations in the Organization for Economic Cooperation and Development.\",\n",
       " 'Those numbers come from the latest edition of the global Small Arms Survey, a project of the Graduate Institute of International and Development Studies in Geneva.',\n",
       " \"The report, which draws on official data, survey data and other measures for 230 countries, finds that global firearm ownership is heavily concentrated in the United States. In 2017, for instance, Americans made up 4 percent of the world's population but owned about 46 percent of the entire global stock of 857 million civilian firearms.\",\n",
       " 'With an estimated 120.5 guns for every 100 residents, the firearm ownership rate in the United States is twice that of the next-highest nation, Yemen, with just 52.8 guns per 100 residents. In raw number terms, the closest country to the United States is India, with 71.1 million firearms in circulation. These numbers do not include firearms owned by law enforcement agencies or militaries.',\n",
       " \"On gun ownership, the United States stands out among the world's wealthiest nations, with an ownership rate more than three times higher than the rate in the next-highest country, Canada. The gun ownership rate in the United States is more than six times higher than the average among similar wealthy nations in the Organization for Economic Cooperation and Development.\"]"
      ]
     },
     "execution_count": 7,
     "metadata": {},
     "output_type": "execute_result"
    }
   ],
   "source": [
    "# Paragraphs\n",
    "  \n",
    "paragraphs = []\n",
    "\n",
    "for i in range(1,3):    \n",
    "        \n",
    "    paragraph = browser.find_by_xpath('//*[@id=\"__next\"]/div[6]/main/article/div[2]/div[2]/div[' + str(i) + ']/p').text\n",
    "\n",
    "    paragraph2 = browser.find_by_xpath('//*[@id=\"__next\"]/div[6]/main/article/div[2]/div[5]/p').text\n",
    "\n",
    "    paragraph3 = browser.find_by_xpath('//*[@id=\"__next\"]/div[6]/main/article/div[2]/div[7]/p').text\n",
    "\n",
    "    paragraph4 = browser.find_by_xpath('//*[@id=\"__next\"]/div[6]/main/article/div[2]/div[8]/p').text\n",
    "    \n",
    "    paragraphs.extend([paragraph, paragraph2, paragraph3, paragraph4])  \n",
    "\n",
    "paragraphs"
   ]
  },
  {
   "cell_type": "code",
   "execution_count": 8,
   "metadata": {},
   "outputs": [],
   "source": [
    "browser.quit()"
   ]
  },
  {
   "cell_type": "code",
   "execution_count": 9,
   "metadata": {},
   "outputs": [],
   "source": [
    "def scrape():\n",
    "    executable_path = {'executable_path': ChromeDriverManager().install()}\n",
    "    browser = Browser('chrome', **executable_path, headless=False)\n",
    "\n",
    "    # Main Dictionary\n",
    "    dictionary = {}\n",
    "\n",
    "    # Charts URL\n",
    "    url = 'https://www.bbc.com/news/world-us-canada-41488081'\n",
    "    browser.visit(url)\n",
    "\n",
    "    # Img Scrape\n",
    "    charts = []\n",
    "    chart = browser.find_by_xpath('//*[@id=\"main-content\"]/div[5]/div/div[1]/article/div[9]/figure/div/span/span/picture/img')['src']                                \n",
    "    chart2 = browser.find_by_xpath('//*[@id=\"main-content\"]/div[5]/div/div[1]/article/div[39]/figure/div/span/span/picture/img')['src']\n",
    "    chart3 = browser.find_by_xpath('//*[@id=\"main-content\"]/div[5]/div/div[1]/article/div[48]/figure/div/span/span/picture/img')['src']                         \n",
    "    charts.extend([chart, chart2, chart3])\n",
    "\n",
    "    # Append to dictionary\n",
    "    dictionary['Charts'] = charts\n",
    "\n",
    "    # URL visit\n",
    "    url = 'https://www.washingtonpost.com/news/wonk/wp/2018/06/19/there-are-more-guns-than-people-in-the-united-states-according-to-a-new-study-of-global-firearm-ownership/'\n",
    "    browser.visit(url)\n",
    "\n",
    "    # Headline\n",
    "    headline = browser.find_by_xpath('//*[@id=\"main-content\"]/span').text\n",
    "\n",
    "    # Append to dictionary\n",
    "    dictionary['Headline'] = headline\n",
    "\n",
    "    # Paragraphs  \n",
    "    paragraphs = []\n",
    "    for i in range(1,3):            \n",
    "        paragraph = browser.find_by_xpath('//*[@id=\"__next\"]/div[6]/main/article/div[2]/div[2]/div[' + str(i) + ']/p').text\n",
    "        paragraph2 = browser.find_by_xpath('//*[@id=\"__next\"]/div[6]/main/article/div[2]/div[5]/p').text\n",
    "        paragraph3 = browser.find_by_xpath('//*[@id=\"__next\"]/div[6]/main/article/div[2]/div[7]/p').text\n",
    "        paragraph4 = browser.find_by_xpath('//*[@id=\"__next\"]/div[6]/main/article/div[2]/div[8]/p').text\n",
    "    paragraphs.extend([paragraph, paragraph2, paragraph3, paragraph4])\n",
    "\n",
    "    # Append to dictionary\n",
    "    dictionary['Paragraphs'] = paragraphs\n",
    "\n",
    "    browser.quit()\n",
    "\n",
    "    return dictionary"
   ]
  },
  {
   "cell_type": "code",
   "execution_count": 10,
   "metadata": {},
   "outputs": [
    {
     "name": "stdout",
     "output_type": "stream",
     "text": [
      "\n"
     ]
    },
    {
     "name": "stderr",
     "output_type": "stream",
     "text": [
      "[WDM] - ====== WebDriver manager ======\n",
      "INFO:WDM:====== WebDriver manager ======\n",
      "[WDM] - Current google-chrome version is 103.0.5060\n",
      "INFO:WDM:Current google-chrome version is 103.0.5060\n",
      "[WDM] - Get LATEST chromedriver version for 103.0.5060 google-chrome\n",
      "INFO:WDM:Get LATEST chromedriver version for 103.0.5060 google-chrome\n",
      "[WDM] - Driver [/Users/ap20/.wdm/drivers/chromedriver/mac64/103.0.5060.134/chromedriver] found in cache\n",
      "INFO:WDM:Driver [/Users/ap20/.wdm/drivers/chromedriver/mac64/103.0.5060.134/chromedriver] found in cache\n"
     ]
    }
   ],
   "source": [
    "gun_dict = scrape()"
   ]
  },
  {
   "cell_type": "code",
   "execution_count": 11,
   "metadata": {},
   "outputs": [],
   "source": [
    "# Pymongo is used to connect with MongoDB\n",
    "myclient = pymongo.MongoClient(\"mongodb://localhost:27017/\")\n",
    "\n",
    "# Database\n",
    "mydb = myclient[\"gun_scrape\"]\n",
    "\n",
    "# Collection named \"developers\"\n",
    "mycol = mydb[\"gun_dict\"]\n",
    "\n",
    "# Insert a document to the collection\n",
    "x = mycol.insert_one(gun_dict)"
   ]
  },
  {
   "cell_type": "code",
   "execution_count": 12,
   "metadata": {},
   "outputs": [
    {
     "name": "stdout",
     "output_type": "stream",
     "text": [
      "Document inserted with id:  62eec3800f9a132fc0beeae3\n"
     ]
    }
   ],
   "source": [
    "print(\"Document inserted with id: \", x.inserted_id)"
   ]
  }
 ],
 "metadata": {
  "kernelspec": {
   "display_name": "Python 3.9.7 ('base')",
   "language": "python",
   "name": "python3"
  },
  "language_info": {
   "codemirror_mode": {
    "name": "ipython",
    "version": 3
   },
   "file_extension": ".py",
   "mimetype": "text/x-python",
   "name": "python",
   "nbconvert_exporter": "python",
   "pygments_lexer": "ipython3",
   "version": "3.9.7"
  },
  "orig_nbformat": 4,
  "vscode": {
   "interpreter": {
    "hash": "6e18270aece4886438592095eb7c4077958764c12b3c7681de976e15e7101ea7"
   }
  }
 },
 "nbformat": 4,
 "nbformat_minor": 2
}
